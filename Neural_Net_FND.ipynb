{
  "cells": [
    {
      "cell_type": "markdown",
      "source": [
        "<a target=\"_blank\" href=\"https://colab.research.google.com/github/gerakys/PyhtonProject_DMTA/blob/main/Neural_Net_FND.ipynb\">\n",
        "  <img src=\"https://colab.research.google.com/assets/colab-badge.svg\" alt=\"Open In Colab\"/>\n",
        "</a>"
      ],
      "metadata": {
        "id": "SEZlOM84EeEA"
      },
      "id": "SEZlOM84EeEA"
    },
    {
      "cell_type": "markdown",
      "source": [
        "# Fake News Detection using Neural Networks"
      ],
      "metadata": {
        "id": "lQ7LImVTDHel"
      },
      "id": "lQ7LImVTDHel"
    },
    {
      "cell_type": "code",
      "execution_count": null,
      "id": "521864a9",
      "metadata": {
        "id": "521864a9"
      },
      "outputs": [],
      "source": [
        "import pandas as pd\n",
        "import numpy as np\n",
        "from sklearn.model_selection import train_test_split\n",
        "from sklearn.feature_extraction.text import CountVectorizer\n",
        "from sklearn.preprocessing import LabelEncoder\n",
        "from tensorflow.keras.models import Sequential\n",
        "from tensorflow.keras.layers import Dense, Embedding, LSTM, SpatialDropout1D\n",
        "from tensorflow.keras.preprocessing.text import Tokenizer\n",
        "from tensorflow.keras.preprocessing.sequence import pad_sequences"
      ]
    },
    {
      "cell_type": "code",
      "execution_count": null,
      "id": "6cf2a31d",
      "metadata": {
        "id": "6cf2a31d"
      },
      "outputs": [],
      "source": [
        "# Load the dataset\n",
        "data = pd.read_csv(\"fake_or_real_news.csv\")"
      ]
    },
    {
      "cell_type": "code",
      "execution_count": null,
      "id": "75cfbfb0",
      "metadata": {
        "id": "75cfbfb0",
        "outputId": "288ac4e9-8de3-4b41-9421-932e01fe9c83"
      },
      "outputs": [
        {
          "data": {
            "text/plain": [
              "Unnamed: 0    0\n",
              "title         0\n",
              "text          0\n",
              "label         0\n",
              "dtype: int64"
            ]
          },
          "execution_count": 26,
          "metadata": {},
          "output_type": "execute_result"
        }
      ],
      "source": [
        "# Check for missing values\n",
        "data.isnull().sum()"
      ]
    },
    {
      "cell_type": "code",
      "execution_count": null,
      "id": "64623ac6",
      "metadata": {
        "id": "64623ac6"
      },
      "outputs": [],
      "source": [
        "# Extract features and labels\n",
        "x = np.array(data[\"title\"])\n",
        "y = np.array(data[\"label\"])"
      ]
    },
    {
      "cell_type": "code",
      "execution_count": null,
      "id": "883fdbe7",
      "metadata": {
        "id": "883fdbe7"
      },
      "outputs": [],
      "source": [
        "# Convert labels to numerical format\n",
        "le = LabelEncoder()\n",
        "y = le.fit_transform(y)"
      ]
    },
    {
      "cell_type": "code",
      "execution_count": null,
      "id": "c859c773",
      "metadata": {
        "id": "c859c773"
      },
      "outputs": [],
      "source": [
        "# Tokenize the text data\n",
        "max_words = 5000\n",
        "tokenizer = Tokenizer(num_words=max_words, split=' ')\n",
        "tokenizer.fit_on_texts(x)\n",
        "x = tokenizer.texts_to_sequences(x)\n",
        "x = pad_sequences(x)"
      ]
    },
    {
      "cell_type": "code",
      "execution_count": null,
      "id": "412acb1c",
      "metadata": {
        "id": "412acb1c"
      },
      "outputs": [],
      "source": [
        "# Split the data into training and testing sets\n",
        "xtrain, xtest, ytrain, ytest = train_test_split(x, y, test_size=0.2, random_state=42)"
      ]
    },
    {
      "cell_type": "code",
      "execution_count": null,
      "id": "284d10b2",
      "metadata": {
        "id": "284d10b2"
      },
      "outputs": [],
      "source": [
        "# Build the neural network model\n",
        "model = Sequential()\n",
        "model.add(Embedding(max_words, 128, input_length=x.shape[1]))\n",
        "model.add(SpatialDropout1D(0.2))\n",
        "model.add(LSTM(100))\n",
        "model.add(Dense(1, activation='sigmoid'))\n",
        "model.compile(loss='binary_crossentropy', optimizer='adam', metrics=['accuracy'])"
      ]
    },
    {
      "cell_type": "code",
      "execution_count": null,
      "id": "ade537e8",
      "metadata": {
        "id": "ade537e8",
        "outputId": "ab1531cf-81b8-4a96-b2b6-6a44ff0a831a"
      },
      "outputs": [
        {
          "name": "stdout",
          "output_type": "stream",
          "text": [
            "Epoch 1/3\n",
            "127/127 [==============================] - 15s 92ms/step - loss: 0.5987 - accuracy: 0.6574 - val_loss: 0.4863 - val_accuracy: 0.7416\n",
            "Epoch 2/3\n",
            "127/127 [==============================] - 11s 89ms/step - loss: 0.2987 - accuracy: 0.8769 - val_loss: 0.4334 - val_accuracy: 0.8037\n",
            "Epoch 3/3\n",
            "127/127 [==============================] - 11s 89ms/step - loss: 0.1638 - accuracy: 0.9393 - val_loss: 0.5007 - val_accuracy: 0.7939\n"
          ]
        },
        {
          "data": {
            "text/plain": [
              "<keras.src.callbacks.History at 0x1ad293af490>"
            ]
          },
          "execution_count": 32,
          "metadata": {},
          "output_type": "execute_result"
        }
      ],
      "source": [
        "# Train the model\n",
        "batch_size = 32\n",
        "epochs = 3\n",
        "model.fit(xtrain, ytrain, epochs=epochs, batch_size=batch_size, validation_split=0.2)"
      ]
    },
    {
      "cell_type": "code",
      "execution_count": null,
      "id": "e52f99a9",
      "metadata": {
        "id": "e52f99a9",
        "outputId": "dd1562d4-9156-4ed1-b0df-1581e9871424"
      },
      "outputs": [
        {
          "name": "stdout",
          "output_type": "stream",
          "text": [
            "40/40 [==============================] - 1s 26ms/step - loss: 0.5240 - accuracy: 0.7956\n",
            "Model Accuracy: 0.80\n",
            "Model Loss: 0.524014949798584\n"
          ]
        }
      ],
      "source": [
        "# Evaluate the model on the test set\n",
        "loss, accuracy = model.evaluate(xtest, ytest)\n",
        "print(f\"Model Accuracy: {accuracy:.2f}\")\n",
        "print(f\"Model Loss: {loss}\")"
      ]
    },
    {
      "cell_type": "code",
      "execution_count": null,
      "id": "d1b94dc6",
      "metadata": {
        "id": "d1b94dc6",
        "outputId": "25a2967d-20c9-4403-d39a-cc68cb8e098b"
      },
      "outputs": [
        {
          "name": "stdout",
          "output_type": "stream",
          "text": [
            "Type News title here: Renewable Energy Could Be a Casualty in the War on Inflation. Here’s Why.\n",
            "3/3 [==============================] - 0s 17ms/step\n",
            "Predicted Label: Real (Probability: 0.20)\n"
          ]
        }
      ],
      "source": [
        "# Make predictions on a sample news headline\n",
        "news_headline = input(\"Type News title here: \")\n",
        "headline_seq = tokenizer.texts_to_sequences(news_headline)\n",
        "headline_padded = pad_sequences(headline_seq, maxlen=x.shape[1])\n",
        "result = model.predict(headline_padded)[0][0]\n",
        "predicted_label = \"Real\" if result < 0.5 else \"Fake\"\n",
        "print(f\"Predicted Label: {predicted_label} (Probability: {result:.2f})\")\n"
      ]
    },
    {
      "cell_type": "code",
      "execution_count": null,
      "id": "0fcfee1a",
      "metadata": {
        "id": "0fcfee1a"
      },
      "outputs": [],
      "source": []
    }
  ],
  "metadata": {
    "kernelspec": {
      "display_name": "Python 3 (ipykernel)",
      "language": "python",
      "name": "python3"
    },
    "language_info": {
      "codemirror_mode": {
        "name": "ipython",
        "version": 3
      },
      "file_extension": ".py",
      "mimetype": "text/x-python",
      "name": "python",
      "nbconvert_exporter": "python",
      "pygments_lexer": "ipython3",
      "version": "3.9.13"
    },
    "colab": {
      "provenance": []
    }
  },
  "nbformat": 4,
  "nbformat_minor": 5
}